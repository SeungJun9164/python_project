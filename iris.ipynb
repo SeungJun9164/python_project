{
 "cells": [
  {
   "cell_type": "code",
   "execution_count": 1,
   "metadata": {},
   "outputs": [],
   "source": [
    "import tensorflow as tf\n",
    "import pandas as pd"
   ]
  },
  {
   "cell_type": "code",
   "execution_count": 2,
   "metadata": {},
   "outputs": [
    {
     "data": {
      "text/html": [
       "<div>\n",
       "<style scoped>\n",
       "    .dataframe tbody tr th:only-of-type {\n",
       "        vertical-align: middle;\n",
       "    }\n",
       "\n",
       "    .dataframe tbody tr th {\n",
       "        vertical-align: top;\n",
       "    }\n",
       "\n",
       "    .dataframe thead th {\n",
       "        text-align: right;\n",
       "    }\n",
       "</style>\n",
       "<table border=\"1\" class=\"dataframe\">\n",
       "  <thead>\n",
       "    <tr style=\"text-align: right;\">\n",
       "      <th></th>\n",
       "      <th>꽃잎길이</th>\n",
       "      <th>꽃잎폭</th>\n",
       "      <th>꽃받침길이</th>\n",
       "      <th>꽃받침폭</th>\n",
       "      <th>품종</th>\n",
       "    </tr>\n",
       "  </thead>\n",
       "  <tbody>\n",
       "    <tr>\n",
       "      <th>0</th>\n",
       "      <td>5.1</td>\n",
       "      <td>3.5</td>\n",
       "      <td>1.4</td>\n",
       "      <td>0.2</td>\n",
       "      <td>setosa</td>\n",
       "    </tr>\n",
       "    <tr>\n",
       "      <th>1</th>\n",
       "      <td>4.9</td>\n",
       "      <td>3.0</td>\n",
       "      <td>1.4</td>\n",
       "      <td>0.2</td>\n",
       "      <td>setosa</td>\n",
       "    </tr>\n",
       "    <tr>\n",
       "      <th>2</th>\n",
       "      <td>4.7</td>\n",
       "      <td>3.2</td>\n",
       "      <td>1.3</td>\n",
       "      <td>0.2</td>\n",
       "      <td>setosa</td>\n",
       "    </tr>\n",
       "    <tr>\n",
       "      <th>3</th>\n",
       "      <td>4.6</td>\n",
       "      <td>3.1</td>\n",
       "      <td>1.5</td>\n",
       "      <td>0.2</td>\n",
       "      <td>setosa</td>\n",
       "    </tr>\n",
       "    <tr>\n",
       "      <th>4</th>\n",
       "      <td>5.0</td>\n",
       "      <td>3.6</td>\n",
       "      <td>1.4</td>\n",
       "      <td>0.2</td>\n",
       "      <td>setosa</td>\n",
       "    </tr>\n",
       "  </tbody>\n",
       "</table>\n",
       "</div>"
      ],
      "text/plain": [
       "   꽃잎길이  꽃잎폭  꽃받침길이  꽃받침폭      품종\n",
       "0   5.1  3.5    1.4   0.2  setosa\n",
       "1   4.9  3.0    1.4   0.2  setosa\n",
       "2   4.7  3.2    1.3   0.2  setosa\n",
       "3   4.6  3.1    1.5   0.2  setosa\n",
       "4   5.0  3.6    1.4   0.2  setosa"
      ]
     },
     "execution_count": 2,
     "metadata": {},
     "output_type": "execute_result"
    }
   ],
   "source": [
    "iris = pd.read_csv('https://raw.githubusercontent.com/blackdew/tensorflow1/master/csv/iris.csv')\n",
    "iris.head()"
   ]
  },
  {
   "cell_type": "code",
   "execution_count": 3,
   "metadata": {},
   "outputs": [
    {
     "data": {
      "text/html": [
       "<div>\n",
       "<style scoped>\n",
       "    .dataframe tbody tr th:only-of-type {\n",
       "        vertical-align: middle;\n",
       "    }\n",
       "\n",
       "    .dataframe tbody tr th {\n",
       "        vertical-align: top;\n",
       "    }\n",
       "\n",
       "    .dataframe thead th {\n",
       "        text-align: right;\n",
       "    }\n",
       "</style>\n",
       "<table border=\"1\" class=\"dataframe\">\n",
       "  <thead>\n",
       "    <tr style=\"text-align: right;\">\n",
       "      <th></th>\n",
       "      <th>꽃잎길이</th>\n",
       "      <th>꽃잎폭</th>\n",
       "      <th>꽃받침길이</th>\n",
       "      <th>꽃받침폭</th>\n",
       "      <th>품종_setosa</th>\n",
       "      <th>품종_versicolor</th>\n",
       "      <th>품종_virginica</th>\n",
       "    </tr>\n",
       "  </thead>\n",
       "  <tbody>\n",
       "    <tr>\n",
       "      <th>0</th>\n",
       "      <td>5.1</td>\n",
       "      <td>3.5</td>\n",
       "      <td>1.4</td>\n",
       "      <td>0.2</td>\n",
       "      <td>1</td>\n",
       "      <td>0</td>\n",
       "      <td>0</td>\n",
       "    </tr>\n",
       "    <tr>\n",
       "      <th>1</th>\n",
       "      <td>4.9</td>\n",
       "      <td>3.0</td>\n",
       "      <td>1.4</td>\n",
       "      <td>0.2</td>\n",
       "      <td>1</td>\n",
       "      <td>0</td>\n",
       "      <td>0</td>\n",
       "    </tr>\n",
       "    <tr>\n",
       "      <th>2</th>\n",
       "      <td>4.7</td>\n",
       "      <td>3.2</td>\n",
       "      <td>1.3</td>\n",
       "      <td>0.2</td>\n",
       "      <td>1</td>\n",
       "      <td>0</td>\n",
       "      <td>0</td>\n",
       "    </tr>\n",
       "    <tr>\n",
       "      <th>3</th>\n",
       "      <td>4.6</td>\n",
       "      <td>3.1</td>\n",
       "      <td>1.5</td>\n",
       "      <td>0.2</td>\n",
       "      <td>1</td>\n",
       "      <td>0</td>\n",
       "      <td>0</td>\n",
       "    </tr>\n",
       "    <tr>\n",
       "      <th>4</th>\n",
       "      <td>5.0</td>\n",
       "      <td>3.6</td>\n",
       "      <td>1.4</td>\n",
       "      <td>0.2</td>\n",
       "      <td>1</td>\n",
       "      <td>0</td>\n",
       "      <td>0</td>\n",
       "    </tr>\n",
       "  </tbody>\n",
       "</table>\n",
       "</div>"
      ],
      "text/plain": [
       "   꽃잎길이  꽃잎폭  꽃받침길이  꽃받침폭  품종_setosa  품종_versicolor  품종_virginica\n",
       "0   5.1  3.5    1.4   0.2          1              0             0\n",
       "1   4.9  3.0    1.4   0.2          1              0             0\n",
       "2   4.7  3.2    1.3   0.2          1              0             0\n",
       "3   4.6  3.1    1.5   0.2          1              0             0\n",
       "4   5.0  3.6    1.4   0.2          1              0             0"
      ]
     },
     "execution_count": 3,
     "metadata": {},
     "output_type": "execute_result"
    }
   ],
   "source": [
    "# get_dummies : one-hot encoding(원 핫 인코딩)\n",
    "encoding = pd.get_dummies(iris)\n",
    "encoding.head()"
   ]
  },
  {
   "cell_type": "code",
   "execution_count": 6,
   "metadata": {},
   "outputs": [
    {
     "name": "stdout",
     "output_type": "stream",
     "text": [
      "Index(['꽃잎길이', '꽃잎폭', '꽃받침길이', '꽃받침폭', '품종_setosa', '품종_versicolor',\n",
      "       '품종_virginica'],\n",
      "      dtype='object')\n"
     ]
    }
   ],
   "source": [
    "print(encoding.columns)"
   ]
  },
  {
   "cell_type": "code",
   "execution_count": 8,
   "metadata": {},
   "outputs": [
    {
     "name": "stdout",
     "output_type": "stream",
     "text": [
      "(150, 4) (150, 3)\n"
     ]
    }
   ],
   "source": [
    "independent = encoding[['꽃잎길이', '꽃잎폭', '꽃받침길이', '꽃받침폭']]\n",
    "dependent = encoding[['품종_setosa', '품종_versicolor', '품종_virginica']]\n",
    "print(independent.shape, dependent.shape)"
   ]
  },
  {
   "cell_type": "code",
   "execution_count": 9,
   "metadata": {},
   "outputs": [],
   "source": [
    "x = tf.keras.layers.Input(shape=[4])\n",
    "y = tf.keras.layers.Dense(3, activation='softmax')(x)\n",
    "model = tf.keras.models.Model(x, y)\n",
    "model.compile(loss='categorical_crossentropy', metrics='accuracy')\n"
   ]
  },
  {
   "cell_type": "code",
   "execution_count": 12,
   "metadata": {},
   "outputs": [
    {
     "name": "stdout",
     "output_type": "stream",
     "text": [
      "Epoch 1/100\n",
      "5/5 [==============================] - 0s 400us/step - loss: 0.4030 - accuracy: 0.9133\n",
      "Epoch 2/100\n",
      "5/5 [==============================] - 0s 400us/step - loss: 0.4022 - accuracy: 0.9067\n",
      "Epoch 3/100\n",
      "5/5 [==============================] - 0s 600us/step - loss: 0.4016 - accuracy: 0.9133\n",
      "Epoch 4/100\n",
      "5/5 [==============================] - 0s 600us/step - loss: 0.4005 - accuracy: 0.9133\n",
      "Epoch 5/100\n",
      "5/5 [==============================] - 0s 600us/step - loss: 0.4009 - accuracy: 0.9200\n",
      "Epoch 6/100\n",
      "5/5 [==============================] - 0s 400us/step - loss: 0.3995 - accuracy: 0.9133\n",
      "Epoch 7/100\n",
      "5/5 [==============================] - 0s 400us/step - loss: 0.3989 - accuracy: 0.9133\n",
      "Epoch 8/100\n",
      "5/5 [==============================] - 0s 400us/step - loss: 0.3980 - accuracy: 0.9067\n",
      "Epoch 9/100\n",
      "5/5 [==============================] - 0s 400us/step - loss: 0.3981 - accuracy: 0.9000\n",
      "Epoch 10/100\n",
      "5/5 [==============================] - 0s 400us/step - loss: 0.3969 - accuracy: 0.9133\n",
      "Epoch 11/100\n",
      "5/5 [==============================] - 0s 400us/step - loss: 0.3960 - accuracy: 0.9067\n",
      "Epoch 12/100\n",
      "5/5 [==============================] - 0s 400us/step - loss: 0.3957 - accuracy: 0.9067\n",
      "Epoch 13/100\n",
      "5/5 [==============================] - 0s 400us/step - loss: 0.3951 - accuracy: 0.9200\n",
      "Epoch 14/100\n",
      "5/5 [==============================] - 0s 400us/step - loss: 0.3949 - accuracy: 0.9133\n",
      "Epoch 15/100\n",
      "5/5 [==============================] - 0s 400us/step - loss: 0.3935 - accuracy: 0.9133\n",
      "Epoch 16/100\n",
      "5/5 [==============================] - 0s 400us/step - loss: 0.3928 - accuracy: 0.9267\n",
      "Epoch 17/100\n",
      "5/5 [==============================] - 0s 600us/step - loss: 0.3927 - accuracy: 0.9200\n",
      "Epoch 18/100\n",
      "5/5 [==============================] - 0s 400us/step - loss: 0.3917 - accuracy: 0.9133\n",
      "Epoch 19/100\n",
      "5/5 [==============================] - 0s 400us/step - loss: 0.3912 - accuracy: 0.9200\n",
      "Epoch 20/100\n",
      "5/5 [==============================] - 0s 600us/step - loss: 0.3901 - accuracy: 0.9133\n",
      "Epoch 21/100\n",
      "5/5 [==============================] - 0s 600us/step - loss: 0.3893 - accuracy: 0.9200\n",
      "Epoch 22/100\n",
      "5/5 [==============================] - 0s 400us/step - loss: 0.3888 - accuracy: 0.9200\n",
      "Epoch 23/100\n",
      "5/5 [==============================] - 0s 400us/step - loss: 0.3886 - accuracy: 0.9133\n",
      "Epoch 24/100\n",
      "5/5 [==============================] - 0s 400us/step - loss: 0.3873 - accuracy: 0.9067\n",
      "Epoch 25/100\n",
      "5/5 [==============================] - 0s 400us/step - loss: 0.3871 - accuracy: 0.9200\n",
      "Epoch 26/100\n",
      "5/5 [==============================] - 0s 400us/step - loss: 0.3855 - accuracy: 0.9267\n",
      "Epoch 27/100\n",
      "5/5 [==============================] - 0s 400us/step - loss: 0.3854 - accuracy: 0.9200\n",
      "Epoch 28/100\n",
      "5/5 [==============================] - 0s 600us/step - loss: 0.3842 - accuracy: 0.9133\n",
      "Epoch 29/100\n",
      "5/5 [==============================] - 0s 400us/step - loss: 0.3831 - accuracy: 0.9200\n",
      "Epoch 30/100\n",
      "5/5 [==============================] - 0s 400us/step - loss: 0.3837 - accuracy: 0.9200\n",
      "Epoch 31/100\n",
      "5/5 [==============================] - 0s 600us/step - loss: 0.3821 - accuracy: 0.9067\n",
      "Epoch 32/100\n",
      "5/5 [==============================] - 0s 400us/step - loss: 0.3809 - accuracy: 0.9267\n",
      "Epoch 33/100\n",
      "5/5 [==============================] - 0s 600us/step - loss: 0.3802 - accuracy: 0.9267\n",
      "Epoch 34/100\n",
      "5/5 [==============================] - 0s 400us/step - loss: 0.3792 - accuracy: 0.9200\n",
      "Epoch 35/100\n",
      "5/5 [==============================] - 0s 400us/step - loss: 0.3788 - accuracy: 0.9200\n",
      "Epoch 36/100\n",
      "5/5 [==============================] - 0s 400us/step - loss: 0.3778 - accuracy: 0.9200\n",
      "Epoch 37/100\n",
      "5/5 [==============================] - 0s 400us/step - loss: 0.3765 - accuracy: 0.9267\n",
      "Epoch 38/100\n",
      "5/5 [==============================] - 0s 400us/step - loss: 0.3775 - accuracy: 0.9267\n",
      "Epoch 39/100\n",
      "5/5 [==============================] - 0s 400us/step - loss: 0.3752 - accuracy: 0.9267\n",
      "Epoch 40/100\n",
      "5/5 [==============================] - 0s 400us/step - loss: 0.3760 - accuracy: 0.9133\n",
      "Epoch 41/100\n",
      "5/5 [==============================] - 0s 600us/step - loss: 0.3754 - accuracy: 0.9200\n",
      "Epoch 42/100\n",
      "5/5 [==============================] - 0s 400us/step - loss: 0.3731 - accuracy: 0.9267\n",
      "Epoch 43/100\n",
      "5/5 [==============================] - 0s 400us/step - loss: 0.3732 - accuracy: 0.9333\n",
      "Epoch 44/100\n",
      "5/5 [==============================] - 0s 400us/step - loss: 0.3725 - accuracy: 0.9267\n",
      "Epoch 45/100\n",
      "5/5 [==============================] - 0s 400us/step - loss: 0.3720 - accuracy: 0.9200\n",
      "Epoch 46/100\n",
      "5/5 [==============================] - 0s 600us/step - loss: 0.3707 - accuracy: 0.9200\n",
      "Epoch 47/100\n",
      "5/5 [==============================] - 0s 600us/step - loss: 0.3712 - accuracy: 0.9200\n",
      "Epoch 48/100\n",
      "5/5 [==============================] - 0s 600us/step - loss: 0.3698 - accuracy: 0.9267\n",
      "Epoch 49/100\n",
      "5/5 [==============================] - 0s 400us/step - loss: 0.3703 - accuracy: 0.9200\n",
      "Epoch 50/100\n",
      "5/5 [==============================] - 0s 400us/step - loss: 0.3684 - accuracy: 0.9333\n",
      "Epoch 51/100\n",
      "5/5 [==============================] - 0s 400us/step - loss: 0.3687 - accuracy: 0.9333\n",
      "Epoch 52/100\n",
      "5/5 [==============================] - 0s 400us/step - loss: 0.3675 - accuracy: 0.9267\n",
      "Epoch 53/100\n",
      "5/5 [==============================] - 0s 400us/step - loss: 0.3675 - accuracy: 0.9333\n",
      "Epoch 54/100\n",
      "5/5 [==============================] - 0s 400us/step - loss: 0.3663 - accuracy: 0.9333\n",
      "Epoch 55/100\n",
      "5/5 [==============================] - 0s 400us/step - loss: 0.3667 - accuracy: 0.9333\n",
      "Epoch 56/100\n",
      "5/5 [==============================] - 0s 400us/step - loss: 0.3650 - accuracy: 0.9267\n",
      "Epoch 57/100\n",
      "5/5 [==============================] - 0s 400us/step - loss: 0.3651 - accuracy: 0.9400\n",
      "Epoch 58/100\n",
      "5/5 [==============================] - 0s 400us/step - loss: 0.3645 - accuracy: 0.9333\n",
      "Epoch 59/100\n",
      "5/5 [==============================] - 0s 400us/step - loss: 0.3633 - accuracy: 0.9333\n",
      "Epoch 60/100\n",
      "5/5 [==============================] - 0s 600us/step - loss: 0.3641 - accuracy: 0.9333\n",
      "Epoch 61/100\n",
      "5/5 [==============================] - 0s 600us/step - loss: 0.3626 - accuracy: 0.9400\n",
      "Epoch 62/100\n",
      "5/5 [==============================] - 0s 600us/step - loss: 0.3617 - accuracy: 0.9467\n",
      "Epoch 63/100\n",
      "5/5 [==============================] - 0s 600us/step - loss: 0.3612 - accuracy: 0.9267\n",
      "Epoch 64/100\n",
      "5/5 [==============================] - 0s 400us/step - loss: 0.3615 - accuracy: 0.9400\n",
      "Epoch 65/100\n",
      "5/5 [==============================] - 0s 400us/step - loss: 0.3603 - accuracy: 0.9333\n",
      "Epoch 66/100\n",
      "5/5 [==============================] - 0s 400us/step - loss: 0.3595 - accuracy: 0.9267\n",
      "Epoch 67/100\n",
      "5/5 [==============================] - 0s 600us/step - loss: 0.3587 - accuracy: 0.9333\n",
      "Epoch 68/100\n",
      "5/5 [==============================] - 0s 400us/step - loss: 0.3581 - accuracy: 0.9467\n",
      "Epoch 69/100\n",
      "5/5 [==============================] - 0s 600us/step - loss: 0.3581 - accuracy: 0.9267\n",
      "Epoch 70/100\n",
      "5/5 [==============================] - 0s 400us/step - loss: 0.3568 - accuracy: 0.9400\n",
      "Epoch 71/100\n",
      "5/5 [==============================] - 0s 400us/step - loss: 0.3573 - accuracy: 0.9267\n",
      "Epoch 72/100\n",
      "5/5 [==============================] - 0s 600us/step - loss: 0.3556 - accuracy: 0.9400\n",
      "Epoch 73/100\n",
      "5/5 [==============================] - 0s 400us/step - loss: 0.3551 - accuracy: 0.9467\n",
      "Epoch 74/100\n",
      "5/5 [==============================] - 0s 600us/step - loss: 0.3543 - accuracy: 0.9333\n",
      "Epoch 75/100\n",
      "5/5 [==============================] - 0s 600us/step - loss: 0.3549 - accuracy: 0.9533\n",
      "Epoch 76/100\n",
      "5/5 [==============================] - 0s 600us/step - loss: 0.3533 - accuracy: 0.9400\n",
      "Epoch 77/100\n",
      "5/5 [==============================] - 0s 400us/step - loss: 0.3534 - accuracy: 0.9467\n",
      "Epoch 78/100\n",
      "5/5 [==============================] - 0s 400us/step - loss: 0.3520 - accuracy: 0.9467\n",
      "Epoch 79/100\n",
      "5/5 [==============================] - 0s 400us/step - loss: 0.3527 - accuracy: 0.9467\n",
      "Epoch 80/100\n",
      "5/5 [==============================] - 0s 400us/step - loss: 0.3514 - accuracy: 0.9400\n",
      "Epoch 81/100\n",
      "5/5 [==============================] - 0s 400us/step - loss: 0.3504 - accuracy: 0.9333\n",
      "Epoch 82/100\n",
      "5/5 [==============================] - 0s 600us/step - loss: 0.3497 - accuracy: 0.9400\n",
      "Epoch 83/100\n"
     ]
    },
    {
     "name": "stdout",
     "output_type": "stream",
     "text": [
      "5/5 [==============================] - 0s 396us/step - loss: 0.3500 - accuracy: 0.9400\n",
      "Epoch 84/100\n",
      "5/5 [==============================] - 0s 600us/step - loss: 0.3489 - accuracy: 0.9467\n",
      "Epoch 85/100\n",
      "5/5 [==============================] - 0s 400us/step - loss: 0.3478 - accuracy: 0.9467\n",
      "Epoch 86/100\n",
      "5/5 [==============================] - 0s 600us/step - loss: 0.3471 - accuracy: 0.9467\n",
      "Epoch 87/100\n",
      "5/5 [==============================] - 0s 695us/step - loss: 0.3470 - accuracy: 0.9467\n",
      "Epoch 88/100\n",
      "5/5 [==============================] - 0s 400us/step - loss: 0.3465 - accuracy: 0.9467\n",
      "Epoch 89/100\n",
      "5/5 [==============================] - 0s 400us/step - loss: 0.3454 - accuracy: 0.9467\n",
      "Epoch 90/100\n",
      "5/5 [==============================] - 0s 400us/step - loss: 0.3448 - accuracy: 0.9467\n",
      "Epoch 91/100\n",
      "5/5 [==============================] - 0s 400us/step - loss: 0.3445 - accuracy: 0.9467\n",
      "Epoch 92/100\n",
      "5/5 [==============================] - 0s 400us/step - loss: 0.3441 - accuracy: 0.9400\n",
      "Epoch 93/100\n",
      "5/5 [==============================] - 0s 400us/step - loss: 0.3436 - accuracy: 0.9467\n",
      "Epoch 94/100\n",
      "5/5 [==============================] - 0s 400us/step - loss: 0.3423 - accuracy: 0.9467\n",
      "Epoch 95/100\n",
      "5/5 [==============================] - 0s 400us/step - loss: 0.3418 - accuracy: 0.9533\n",
      "Epoch 96/100\n",
      "5/5 [==============================] - 0s 400us/step - loss: 0.3416 - accuracy: 0.9533\n",
      "Epoch 97/100\n",
      "5/5 [==============================] - 0s 600us/step - loss: 0.3410 - accuracy: 0.9467\n",
      "Epoch 98/100\n",
      "5/5 [==============================] - 0s 400us/step - loss: 0.3401 - accuracy: 0.9467\n",
      "Epoch 99/100\n",
      "5/5 [==============================] - 0s 600us/step - loss: 0.3403 - accuracy: 0.9533\n",
      "Epoch 100/100\n",
      "5/5 [==============================] - 0s 400us/step - loss: 0.3396 - accuracy: 0.9533\n"
     ]
    },
    {
     "data": {
      "text/plain": [
       "<tensorflow.python.keras.callbacks.History at 0x2133aad5700>"
      ]
     },
     "execution_count": 12,
     "metadata": {},
     "output_type": "execute_result"
    }
   ],
   "source": [
    "model.fit(independent, dependent, epochs=100)"
   ]
  },
  {
   "cell_type": "code",
   "execution_count": 15,
   "metadata": {},
   "outputs": [
    {
     "data": {
      "text/plain": [
       "array([[3.8147619e-04, 2.7978772e-01, 7.1983087e-01],\n",
       "       [4.2935848e-04, 3.6522523e-01, 6.3434535e-01],\n",
       "       [6.5949449e-04, 3.5216498e-01, 6.4717555e-01],\n",
       "       [4.3700458e-04, 2.4225798e-01, 7.5730497e-01],\n",
       "       [9.8177197e-04, 3.6858281e-01, 6.3043547e-01]], dtype=float32)"
      ]
     },
     "execution_count": 15,
     "metadata": {},
     "output_type": "execute_result"
    }
   ],
   "source": [
    "model.predict(independent[-5:])"
   ]
  },
  {
   "cell_type": "code",
   "execution_count": 17,
   "metadata": {},
   "outputs": [
    {
     "name": "stdout",
     "output_type": "stream",
     "text": [
      "     품종_setosa  품종_versicolor  품종_virginica\n",
      "145          0              0             1\n",
      "146          0              0             1\n",
      "147          0              0             1\n",
      "148          0              0             1\n",
      "149          0              0             1\n"
     ]
    }
   ],
   "source": [
    "print(dependent[-5:])"
   ]
  },
  {
   "cell_type": "code",
   "execution_count": 18,
   "metadata": {},
   "outputs": [
    {
     "data": {
      "text/plain": [
       "[array([[-0.31020424, -0.46257812, -0.84119064],\n",
       "        [ 1.3814831 , -0.56806576, -0.67512333],\n",
       "        [-1.527609  ,  0.59093636,  0.83240426],\n",
       "        [-1.6228158 , -0.46337447,  0.9105928 ]], dtype=float32),\n",
       " array([ 0.48943263,  0.2735714 , -0.33932382], dtype=float32)]"
      ]
     },
     "execution_count": 18,
     "metadata": {},
     "output_type": "execute_result"
    }
   ],
   "source": [
    "model.get_weights()"
   ]
  },
  {
   "cell_type": "code",
   "execution_count": null,
   "metadata": {},
   "outputs": [],
   "source": []
  }
 ],
 "metadata": {
  "kernelspec": {
   "display_name": "Python 3",
   "language": "python",
   "name": "python3"
  },
  "language_info": {
   "codemirror_mode": {
    "name": "ipython",
    "version": 3
   },
   "file_extension": ".py",
   "mimetype": "text/x-python",
   "name": "python",
   "nbconvert_exporter": "python",
   "pygments_lexer": "ipython3",
   "version": "3.8.3"
  }
 },
 "nbformat": 4,
 "nbformat_minor": 4
}
